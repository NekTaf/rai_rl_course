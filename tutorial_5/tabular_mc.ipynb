{
 "cells": [
  {
   "cell_type": "code",
   "execution_count": 1,
   "metadata": {},
   "outputs": [],
   "source": [
    "import numpy as np\n",
    "import time\n",
    "\n",
    "# Set the random seed based on the current time\n",
    "np.random.seed(int(time.time()))\n"
   ]
  },
  {
   "cell_type": "code",
   "execution_count": 2,
   "metadata": {},
   "outputs": [
    {
     "data": {
      "text/plain": [
       "array([[0., 0., 0., 0., 0.],\n",
       "       [0., 0., 0., 0., 0.],\n",
       "       [0., 0., 0., 0., 0.],\n",
       "       [0., 0., 0., 0., 0.],\n",
       "       [0., 0., 0., 0., 0.]])"
      ]
     },
     "execution_count": 2,
     "metadata": {},
     "output_type": "execute_result"
    }
   ],
   "source": [
    "# Define discrete 2D states S,S'\n",
    "GRID_WORLD = np.zeros((5,5))\n",
    "\n",
    "# Discount Factor\n",
    "GAMMA = 0.9\n",
    "\n",
    "GRID_WORLD"
   ]
  },
  {
   "cell_type": "code",
   "execution_count": 3,
   "metadata": {},
   "outputs": [],
   "source": [
    "# Define Actions (A) --> North, South, East, West \n",
    "actions = [[-1,0], [1,0], [0,-1], [0,1]]"
   ]
  },
  {
   "cell_type": "code",
   "execution_count": 4,
   "metadata": {},
   "outputs": [],
   "source": [
    "Q = np.zeros((GRID_WORLD.shape[0],GRID_WORLD.shape[1],len(actions)))"
   ]
  },
  {
   "cell_type": "code",
   "execution_count": 5,
   "metadata": {},
   "outputs": [],
   "source": [
    "import gymnasium as gym\n",
    "from gymnasium import spaces\n",
    "import numpy as np\n",
    "\n",
    "import time\n",
    "\n",
    "\n",
    "class GridWorldEnv(gym.Env):\n",
    "    def __init__(self):\n",
    "        super(GridWorldEnv, self).__init__()\n",
    "        \n",
    "        # Define the grid size and observation space (5x5 grid)\n",
    "        self.grid_size = 5\n",
    "        self.observation_space = spaces.MultiDiscrete([self.grid_size, self.grid_size])\n",
    "        \n",
    "        # Define the action space (4 possible directions)\n",
    "        self.action_space = spaces.Discrete(4)\n",
    "        \n",
    "        # Define the actions (up, down, left, right)\n",
    "        self.actions = np.array([[-1, 0], [1, 0], [0, -1], [0, 1]])\n",
    "        \n",
    "        # Starting state and goal states\n",
    "        self.state = self.observation_space.sample()\n",
    "        self.goal_states = {\n",
    "            (0, 1): (np.array([4, 1]), 10, True),  # Goal state 1 with reward +10 and termination\n",
    "            (0, 3): (np.array([2, 3]), 5, True)    # Goal state 2 with reward +5 and termination\n",
    "        }\n",
    "\n",
    "    def reset(self, seed=None, options=None):\n",
    "        super().reset(seed=seed)\n",
    "        np.random.seed(int(time.time()))\n",
    "\n",
    "        # Reset to the start state\n",
    "        self.state = self.observation_space.sample()\n",
    "        self.timestep = 0\n",
    "        \n",
    "        # Return initial observation\n",
    "        return self.state, {}\n",
    "\n",
    "    def step(self, action_idx):\n",
    "        action = self.actions[action_idx]\n",
    "        \n",
    "        # Calculate new state (prime_state_id)\n",
    "        prime_state_id = self.state + action\n",
    "        termination = False\n",
    "        \n",
    "        # Check for out-of-bounds\n",
    "        if (prime_state_id < 0).any() or (prime_state_id >= self.grid_size).any():\n",
    "            reward_t = -1\n",
    "            prime_state_id = self.state  # No movement if out of bounds\n",
    "        # Check for special goal states\n",
    "        elif tuple(self.state) in self.goal_states:\n",
    "            prime_state_id, reward_t, termination = self.goal_states[tuple(self.state)]\n",
    "        else:\n",
    "            reward_t = -1  # Penalty for normal moves\n",
    "\n",
    "        # Update the state\n",
    "        self.state = prime_state_id.copy()\n",
    "        \n",
    "        self.timestep += 1\n",
    "        \n",
    "        if self.timestep>= 25:\n",
    "            truncation = True\n",
    "        else:\n",
    "            truncation = False\n",
    "        \n",
    "        # Return the step information\n",
    "        return self.state, reward_t, termination, truncation, {}\n",
    "\n",
    "    def render(self):\n",
    "        \"\"\"Render the grid with the agent's current position.\"\"\"\n",
    "        grid = np.zeros((self.grid_size, self.grid_size), dtype=str)\n",
    "        grid[:] = '.'\n",
    "        grid[tuple(self.state)] = 'A'  # Agent's current position\n",
    "        for goal, (position, _, _) in self.goal_states.items():\n",
    "            grid[tuple(position)] = 'G'\n",
    "        \n",
    "        print(\"\\n\".join(\" \".join(row) for row in grid))\n",
    "        print()\n"
   ]
  },
  {
   "cell_type": "code",
   "execution_count": 6,
   "metadata": {},
   "outputs": [],
   "source": [
    "def epsilon_greedy(Q, epsilon = 0.7):\n",
    "    epsilon_rnd = np.random.uniform()\n",
    "    if epsilon_rnd < epsilon:\n",
    "        argmax = np.argmax(Q)\n",
    "        return actions[argmax], argmax\n",
    "    else:\n",
    "        rand_index = np.random.choice(np.array(actions).shape[0])\n",
    "        return actions[rand_index], rand_index\n"
   ]
  },
  {
   "cell_type": "code",
   "execution_count": 7,
   "metadata": {},
   "outputs": [],
   "source": [
    "def update_rule_mc(Q, episode_rewards, actions, states, a=0.03, gamma=0.9):\n",
    "    \n",
    "    G = 0\n",
    "    returns = []\n",
    "    \n",
    "    for reward in reversed(episode_rewards):\n",
    "        G = gamma * G + reward  \n",
    "        returns.append(G)\n",
    "    \n",
    "    returns.reverse()  \n",
    "\n",
    "    for state, action, G in zip(states, actions, returns):\n",
    "        Q[state[0], state[1], action] += a * (G - Q[state[0], state[1], action]) \n",
    "\n",
    "    return Q\n"
   ]
  },
  {
   "cell_type": "code",
   "execution_count": 8,
   "metadata": {},
   "outputs": [],
   "source": [
    "# Iterative process, so we will run it for 10 times\n",
    "# If this was some other higher dimensional, or continuous space, this would require a lot more iterations\n",
    "# This number can range in the millions \n",
    "\n",
    "episodes = int(1e4)\n",
    "timesteps = 25\n",
    "termination = False\n",
    "truncation = False\n",
    "\n",
    "\n",
    "env = GridWorldEnv()\n",
    "\n",
    "\n",
    "for episode in range(episodes):\n",
    "       \n",
    "    state_id = env.reset()[0]\n",
    "    episode_rewards = []\n",
    "    states = []\n",
    "    actions_update = []\n",
    "    \n",
    "    for timestep in range(timesteps):\n",
    "        \n",
    "        action, action_idx = epsilon_greedy(Q[state_id[0],state_id[1],:], \n",
    "                                            epsilon = 0.7)\n",
    "        \n",
    "        prime_state_id, reward, termination, truncation, _ = env.step(action_idx=action_idx)\n",
    "        \n",
    "        action_prime, prime_action_idx = epsilon_greedy(Q=Q[prime_state_id[0],\n",
    "                                                            prime_state_id[1],:], \n",
    "                                                            epsilon=0.7)\n",
    "        \n",
    "        episode_rewards.append(reward)\n",
    "        states.append(state_id)\n",
    "        actions_update.append(action_idx)\n",
    "\n",
    "        state_id = np.array(prime_state_id)\n",
    "        \n",
    "        \n",
    "        if termination or truncation:\n",
    "            break\n",
    "        \n",
    "    Q = update_rule_mc(Q=Q,episode_rewards=episode_rewards,states=states,actions=actions_update)\n",
    "\n",
    "                        "
   ]
  },
  {
   "cell_type": "code",
   "execution_count": 9,
   "metadata": {},
   "outputs": [
    {
     "data": {
      "image/png": "[encoded data removed]",
      "text/plain": [
       "<Figure size 1000x800 with 8 Axes>"
      ]
     },
     "metadata": {},
     "output_type": "display_data"
    }
   ],
   "source": [
    "import matplotlib.pyplot as plt\n",
    "import numpy as np\n",
    "\n",
    "Q1 = Q[:, :, 0]\n",
    "Q2 = Q[:, :, 1]\n",
    "Q3 = Q[:, :, 2]\n",
    "Q4 = Q[:, :, 3]\n",
    "\n",
    "vmin = Q.min()\n",
    "vmax = Q.max()\n",
    "\n",
    "# Create subplots (2x2 grid)\n",
    "fig, axes = plt.subplots(2, 2, figsize=(10, 8))\n",
    "\n",
    "# First subplot (top left)\n",
    "im1 = axes[0, 0].imshow(Q1, cmap='viridis', interpolation='nearest', vmin=vmin, vmax=vmax)\n",
    "axes[0, 0].set_title(\"North\")\n",
    "plt.colorbar(im1, ax=axes[0, 0])\n",
    "\n",
    "# Second subplot (top right)\n",
    "im2 = axes[0, 1].imshow(Q2, cmap='viridis', interpolation='nearest', vmin=vmin, vmax=vmax)\n",
    "axes[0, 1].set_title(\"South\")\n",
    "plt.colorbar(im2, ax=axes[0, 1])\n",
    "\n",
    "# Third subplot (bottom left)\n",
    "im3 = axes[1, 0].imshow(Q3, cmap='viridis', interpolation='nearest', vmin=vmin, vmax=vmax)\n",
    "axes[1, 0].set_title(\"East\")\n",
    "plt.colorbar(im3, ax=axes[1, 0])\n",
    "\n",
    "# Fourth subplot (bottom right)\n",
    "im4 = axes[1, 1].imshow(Q4, cmap='viridis', interpolation='nearest', vmin=vmin, vmax=vmax)\n",
    "axes[1, 1].set_title(\"West\")\n",
    "plt.colorbar(im4, ax=axes[1, 1])\n",
    "\n",
    "# Display the plot\n",
    "plt.tight_layout()\n",
    "plt.show()\n"
   ]
  },
  {
   "cell_type": "code",
   "execution_count": 10,
   "metadata": {},
   "outputs": [
    {
     "name": "stdout",
     "output_type": "stream",
     "text": [
      "Total timesteps:  2\n",
      "Final reward:  10\n"
     ]
    }
   ],
   "source": [
    "episodes = int(1)\n",
    "timesteps = 25\n",
    "termination = False\n",
    "truncation = False\n",
    "\n",
    "for episode in range(episodes):\n",
    "    \n",
    "    state_id = env.reset()[0]\n",
    "   \n",
    "    plot_states = []\n",
    "    plot_states.append(state_id)\n",
    "\n",
    "    \n",
    "    for i, timestep in enumerate(range(timesteps)):\n",
    "        \n",
    "        action, action_idx = epsilon_greedy(Q[state_id[0],state_id[1],:], \n",
    "                                            epsilon = 1)\n",
    "        \n",
    "        prime_state_id, reward, termination, truncation, _ = env.step(action_idx=action_idx)\n",
    "                \n",
    "        state_id = np.array(prime_state_id)\n",
    "        plot_states.append(state_id)\n",
    "\n",
    "        \n",
    "        if i == timesteps-1:\n",
    "            truncation = False\n",
    "\n",
    "        \n",
    "        if termination or truncation:\n",
    "            print(\"Total timesteps: \", i)\n",
    "            print(\"Final reward: \", reward)\n",
    "\n",
    "            break\n",
    "        "
   ]
  },
  {
   "cell_type": "code",
   "execution_count": 11,
   "metadata": {},
   "outputs": [
    {
     "data": {
      "image/png": "[encoded data removed]",
      "text/plain": [
       "<Figure size 1000x800 with 8 Axes>"
      ]
     },
     "metadata": {},
     "output_type": "display_data"
    }
   ],
   "source": [
    "import matplotlib.pyplot as plt\n",
    "import numpy as np\n",
    "\n",
    "Q1 = Q[:, :, 0]\n",
    "Q2 = Q[:, :, 1]\n",
    "Q3 = Q[:, :, 2]\n",
    "Q4 = Q[:, :, 3]\n",
    "\n",
    "plot_states = np.array(plot_states)\n",
    "\n",
    "vmin = Q.min()\n",
    "vmax = Q.max()\n",
    "\n",
    "fig, axes = plt.subplots(2, 2, figsize=(10, 8))\n",
    "\n",
    "im1 = axes[0, 0].imshow(Q1, cmap='viridis', interpolation='nearest', vmin=vmin, vmax=vmax)\n",
    "axes[0, 0].set_title(\"North\")\n",
    "plt.colorbar(im1, ax=axes[0, 0])\n",
    "\n",
    "im2 = axes[0, 1].imshow(Q2, cmap='viridis', interpolation='nearest', vmin=vmin, vmax=vmax)\n",
    "axes[0, 1].set_title(\"South\")\n",
    "plt.colorbar(im2, ax=axes[0, 1])\n",
    "\n",
    "im3 = axes[1, 0].imshow(Q3, cmap='viridis', interpolation='nearest', vmin=vmin, vmax=vmax)\n",
    "axes[1, 0].set_title(\"East\")\n",
    "plt.colorbar(im3, ax=axes[1, 0])\n",
    "\n",
    "im4 = axes[1, 1].imshow(Q4, cmap='viridis', interpolation='nearest', vmin=vmin, vmax=vmax)\n",
    "axes[1, 1].set_title(\"West\")\n",
    "plt.colorbar(im4, ax=axes[1, 1])\n",
    "\n",
    "\n",
    "axes = axes.flatten()\n",
    "\n",
    "for ax in axes:\n",
    "    ax.scatter(x=plot_states[:, 1], y=plot_states[:, 0], color=\"red\")  # Scatter all points in red\n",
    "    ax.scatter(x=plot_states[0, 1], y=plot_states[0, 0], color=\"black\")  # Single black point\n",
    "    ax.scatter(x=plot_states[-1, 1], y=plot_states[-1, 0], color=\"orange\")  # Single black point\n",
    "\n",
    "\n",
    "# Display the plot\n",
    "plt.tight_layout()\n",
    "plt.show()\n"
   ]
  }
 ],
 "metadata": {
  "kernelspec": {
   "display_name": "gmat_env",
   "language": "python",
   "name": "python3"
  },
  "language_info": {
   "codemirror_mode": {
    "name": "ipython",
    "version": 3
   },
   "file_extension": ".py",
   "mimetype": "text/x-python",
   "name": "python",
   "nbconvert_exporter": "python",
   "pygments_lexer": "ipython3",
   "version": "3.9.19"
  }
 },
 "nbformat": 4,
 "nbformat_minor": 2
}
