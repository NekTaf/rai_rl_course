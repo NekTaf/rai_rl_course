{
 "cells": [
  {
   "cell_type": "markdown",
   "metadata": {},
   "source": [
    "# Example 3.5: Gridworld -- Page 60 Sutton Barto Book \n",
    "\n",
    "This script implements the gridworld value function calculation.\n",
    "\n"
   ]
  },
  {
   "cell_type": "code",
   "execution_count": 1,
   "metadata": {},
   "outputs": [],
   "source": [
    "import numpy as np\n"
   ]
  },
  {
   "cell_type": "code",
   "execution_count": 2,
   "metadata": {},
   "outputs": [
    {
     "data": {
      "text/plain": [
       "array([[0., 0., 0., 0., 0.],\n",
       "       [0., 0., 0., 0., 0.],\n",
       "       [0., 0., 0., 0., 0.],\n",
       "       [0., 0., 0., 0., 0.],\n",
       "       [0., 0., 0., 0., 0.]])"
      ]
     },
     "execution_count": 2,
     "metadata": {},
     "output_type": "execute_result"
    }
   ],
   "source": [
    "# Define discrete 2D states S,S'\n",
    "GRID_WORLD = np.zeros((5,5))\n",
    "\n",
    "# Discount Factor\n",
    "GAMMA = 0.9\n",
    "\n",
    "# Probability for choosing an action, equal for all actions\n",
    "# For a NN policy this would be the probability of choosing an action \n",
    "P_SA = 0.25\n",
    "\n",
    "GRID_WORLD\n"
   ]
  },
  {
   "cell_type": "code",
   "execution_count": 3,
   "metadata": {},
   "outputs": [],
   "source": [
    "# Define Actions (A) --> North, South, East, West \n",
    "\n",
    "actions = [[-1,0], [1,0], [0,-1], [0,1]]\n"
   ]
  },
  {
   "cell_type": "code",
   "execution_count": 4,
   "metadata": {},
   "outputs": [],
   "source": [
    "# Iterative process, so we will run it for 10 times\n",
    "# If this was some other higher dimensional, or continuous space, this would require a lot more iterations\n",
    "# This number can range in the millions \n",
    "\n",
    "loops = 10\n",
    "\n",
    "for loop in range(loops):\n",
    "    for i, row in enumerate(GRID_WORLD):\n",
    "        \n",
    "        for j, cell in enumerate(row):\n",
    "            \n",
    "            state_id = np.array((i,j))\n",
    "            value = 0\n",
    "            \n",
    "            for action in actions:\n",
    "\n",
    "                prime_state_id = state_id + action\n",
    "                \n",
    "                # Get reward for current with Basrent state action pair r(s,a)\n",
    "                if (prime_state_id < 0).any() or (prime_state_id > 4).any():\n",
    "                    reward_t = -1\n",
    "                    prime_state_id = state_id\n",
    "                                    \n",
    "                elif (state_id == [0,1]).all():\n",
    "                    reward_t = +10\n",
    "                    prime_state_id = [4,1]\n",
    "\n",
    "                elif (state_id == [0,3]).all():\n",
    "                    reward_t = +5\n",
    "                    prime_state_id = [2,3]\n",
    "\n",
    "                else:\n",
    "                    reward_t = 0\n",
    "                    \n",
    "                # Calculate value for state s base on bellman equation \n",
    "                value += (P_SA*(reward_t + GAMMA*GRID_WORLD[prime_state_id[0],prime_state_id[1]]))\n",
    "                \n",
    "            # Update cell value state v(s)\n",
    "            GRID_WORLD[state_id[0],state_id[1]] = value\n"
   ]
  },
  {
   "cell_type": "code",
   "execution_count": 5,
   "metadata": {},
   "outputs": [
    {
     "data": {
      "image/png": "[encoded data removed]",
      "text/plain": [
       "<Figure size 640x480 with 2 Axes>"
      ]
     },
     "metadata": {},
     "output_type": "display_data"
    },
    {
     "name": "stdout",
     "output_type": "stream",
     "text": [
      "[[ 3.1  8.3  4.1  4.8  1.3]\n",
      " [ 1.4  2.8  2.1  1.7  0.4]\n",
      " [ 0.   0.7  0.6  0.3 -0.4]\n",
      " [-0.9 -0.4 -0.3 -0.5 -1.1]\n",
      " [-1.8 -1.3 -1.2 -1.4 -1.9]]\n"
     ]
    }
   ],
   "source": [
    "import matplotlib.pyplot as plt\n",
    "\n",
    "plt.imshow(GRID_WORLD, cmap='viridis', interpolation='nearest')\n",
    "plt.colorbar()\n",
    "plt.show()\n",
    "\n",
    "print(np.round(GRID_WORLD,1))"
   ]
  }
 ],
 "metadata": {
  "kernelspec": {
   "display_name": "gmat_env",
   "language": "python",
   "name": "python3"
  },
  "language_info": {
   "codemirror_mode": {
    "name": "ipython",
    "version": 3
   },
   "file_extension": ".py",
   "mimetype": "text/x-python",
   "name": "python",
   "nbconvert_exporter": "python",
   "pygments_lexer": "ipython3",
   "version": "3.9.19"
  }
 },
 "nbformat": 4,
 "nbformat_minor": 2
}
